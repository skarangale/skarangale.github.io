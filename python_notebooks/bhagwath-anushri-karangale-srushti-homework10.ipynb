{
 "cells": [
  {
   "cell_type": "markdown",
   "id": "1cfd37ee",
   "metadata": {},
   "source": [
    "## Homework#10"
   ]
  },
  {
   "cell_type": "markdown",
   "id": "2cc1cf2a",
   "metadata": {},
   "source": [
    "Group Members: Anushri Bhagwath- anushri5, Srushti Karangale- shk10"
   ]
  },
  {
   "cell_type": "markdown",
   "id": "699ff106",
   "metadata": {},
   "source": [
    "For completing this assignment, certain sections of the code was referenced from Prep Notebook, Week 11 and In class notebook, Week 11."
   ]
  },
  {
   "cell_type": "code",
   "execution_count": 1,
   "id": "b8b46673",
   "metadata": {},
   "outputs": [],
   "source": [
    "#importing the required library\n",
    "import altair as alt"
   ]
  },
  {
   "cell_type": "code",
   "execution_count": 2,
   "id": "0988f6cb",
   "metadata": {},
   "outputs": [],
   "source": [
    "# reading the dataset\n",
    "building_inventory_url = 'https://raw.githubusercontent.com/UIUC-iSchool-DataViz/is445_bcubcg_fall2022/main/data/building_inventory.csv'"
   ]
  },
  {
   "cell_type": "markdown",
   "id": "0b9ff23f",
   "metadata": {},
   "source": [
    "## Interactive scatter chart in altair"
   ]
  },
  {
   "cell_type": "code",
   "execution_count": 3,
   "id": "1424eb5c",
   "metadata": {},
   "outputs": [],
   "source": [
    "brush = alt.selection_interval(encodings=['x','y'])\n",
    "\n",
    "#plot 1\n",
    "scatter = alt.Chart(building_inventory_url).mark_point().encode(\n",
    "    x='Year Constructed:T', # T is for temporal\n",
    "    y='average(Total Floors):Q',\n",
    "    color=alt.Color('Square Footage:Q'),\n",
    "    tooltip=(['Year Constructed:T','average(Total Floors):Q'])\n",
    ").add_selection(\n",
    "    brush\n",
    ")\n",
    "\n",
    "#plot 2\n",
    "bar_ch = alt.Chart(building_inventory_url).mark_bar().encode(\n",
    "  alt.X('Bldg Status:N'),\n",
    "  alt.Y(\"count()\", axis=alt.Axis(grid=False, title='No of buildings')), \n",
    "  alt.Color('Bldg Status:N'),\n",
    "  tooltip=(['Bldg Status:N','count()'])\n",
    ").transform_filter(\n",
    "    brush\n",
    ")\n",
    "\n",
    "#combining the two plots into a dashboard\n",
    "dashboard = scatter.properties(width=300) | bar_ch.properties(width=300)"
   ]
  },
  {
   "cell_type": "code",
   "execution_count": 4,
   "id": "2741991f",
   "metadata": {},
   "outputs": [
    {
     "data": {
      "text/html": [
       "\n",
       "<div id=\"altair-viz-7705f7de24dd49759453bed495dd5a65\"></div>\n",
       "<script type=\"text/javascript\">\n",
       "  (function(spec, embedOpt){\n",
       "    let outputDiv = document.currentScript.previousElementSibling;\n",
       "    if (outputDiv.id !== \"altair-viz-7705f7de24dd49759453bed495dd5a65\") {\n",
       "      outputDiv = document.getElementById(\"altair-viz-7705f7de24dd49759453bed495dd5a65\");\n",
       "    }\n",
       "    const paths = {\n",
       "      \"vega\": \"https://cdn.jsdelivr.net/npm//vega@5?noext\",\n",
       "      \"vega-lib\": \"https://cdn.jsdelivr.net/npm//vega-lib?noext\",\n",
       "      \"vega-lite\": \"https://cdn.jsdelivr.net/npm//vega-lite@4.8.1?noext\",\n",
       "      \"vega-embed\": \"https://cdn.jsdelivr.net/npm//vega-embed@6?noext\",\n",
       "    };\n",
       "\n",
       "    function loadScript(lib) {\n",
       "      return new Promise(function(resolve, reject) {\n",
       "        var s = document.createElement('script');\n",
       "        s.src = paths[lib];\n",
       "        s.async = true;\n",
       "        s.onload = () => resolve(paths[lib]);\n",
       "        s.onerror = () => reject(`Error loading script: ${paths[lib]}`);\n",
       "        document.getElementsByTagName(\"head\")[0].appendChild(s);\n",
       "      });\n",
       "    }\n",
       "\n",
       "    function showError(err) {\n",
       "      outputDiv.innerHTML = `<div class=\"error\" style=\"color:red;\">${err}</div>`;\n",
       "      throw err;\n",
       "    }\n",
       "\n",
       "    function displayChart(vegaEmbed) {\n",
       "      vegaEmbed(outputDiv, spec, embedOpt)\n",
       "        .catch(err => showError(`Javascript Error: ${err.message}<br>This usually means there's a typo in your chart specification. See the javascript console for the full traceback.`));\n",
       "    }\n",
       "\n",
       "    if(typeof define === \"function\" && define.amd) {\n",
       "      requirejs.config({paths});\n",
       "      require([\"vega-embed\"], displayChart, err => showError(`Error loading script: ${err.message}`));\n",
       "    } else if (typeof vegaEmbed === \"function\") {\n",
       "      displayChart(vegaEmbed);\n",
       "    } else {\n",
       "      loadScript(\"vega\")\n",
       "        .then(() => loadScript(\"vega-lite\"))\n",
       "        .then(() => loadScript(\"vega-embed\"))\n",
       "        .catch(showError)\n",
       "        .then(() => displayChart(vegaEmbed));\n",
       "    }\n",
       "  })({\"config\": {\"view\": {\"continuousWidth\": 400, \"continuousHeight\": 300}}, \"hconcat\": [{\"mark\": \"point\", \"encoding\": {\"color\": {\"type\": \"quantitative\", \"field\": \"Square Footage\"}, \"tooltip\": [{\"type\": \"temporal\", \"field\": \"Year Constructed\"}, {\"type\": \"quantitative\", \"aggregate\": \"average\", \"field\": \"Total Floors\"}], \"x\": {\"type\": \"temporal\", \"field\": \"Year Constructed\"}, \"y\": {\"type\": \"quantitative\", \"aggregate\": \"average\", \"field\": \"Total Floors\"}}, \"selection\": {\"selector001\": {\"type\": \"interval\", \"encodings\": [\"x\", \"y\"]}}, \"width\": 300}, {\"mark\": \"bar\", \"encoding\": {\"color\": {\"type\": \"nominal\", \"field\": \"Bldg Status\"}, \"tooltip\": [{\"type\": \"nominal\", \"field\": \"Bldg Status\"}, {\"type\": \"quantitative\", \"aggregate\": \"count\"}], \"x\": {\"type\": \"nominal\", \"field\": \"Bldg Status\"}, \"y\": {\"type\": \"quantitative\", \"aggregate\": \"count\", \"axis\": {\"grid\": false, \"title\": \"No of buildings\"}}}, \"transform\": [{\"filter\": {\"selection\": \"selector001\"}}], \"width\": 300}], \"data\": {\"url\": \"https://raw.githubusercontent.com/UIUC-iSchool-DataViz/is445_bcubcg_fall2022/main/data/building_inventory.csv\"}, \"$schema\": \"https://vega.github.io/schema/vega-lite/v4.8.1.json\"}, {\"mode\": \"vega-lite\"});\n",
       "</script>"
      ],
      "text/plain": [
       "alt.HConcatChart(...)"
      ]
     },
     "execution_count": 4,
     "metadata": {},
     "output_type": "execute_result"
    }
   ],
   "source": [
    "dashboard"
   ]
  },
  {
   "cell_type": "markdown",
   "id": "5438cf42",
   "metadata": {},
   "source": [
    "Saving the dashboard under the assets/json directory on our github page in order to publish it on our web page"
   ]
  },
  {
   "cell_type": "code",
   "execution_count": 5,
   "id": "4d6dfa45",
   "metadata": {},
   "outputs": [],
   "source": [
    "myJekyllDir = 'C:/Users/srush/assignmentss/Data viz/skarangale.github.io/assets/json/'"
   ]
  },
  {
   "cell_type": "code",
   "execution_count": 6,
   "id": "442bbb6e",
   "metadata": {},
   "outputs": [],
   "source": [
    "dashboard.save(myJekyllDir+\"altair_buildings_chart.json\")"
   ]
  },
  {
   "cell_type": "markdown",
   "id": "4f536fc1",
   "metadata": {},
   "source": [
    "### Explanation: \n",
    "\n",
    "The above dashboard is an interactive dashboard which was made by combining two visuals. These two visuals were made using the altair library in python. The right visual is scatter plot which shows the average number of floors in the buildings constructed throughout the years. The scatter plot has the year constructed on the X-axis and the average number of floors on the Y-axis. The color shade of the different data points on the scatter plot is determined by the square footage of the buildings in each year. There was no particular color chosen for the scatter plot and we left it on default which is blue. The x-axis value which is 'Year constructed' has the type 'temporal (T)' as it is date(year) data. The y-axis value which is 'average of total floors' is 'quantitative (Q)' because it is numeric data. The column 'square footage' which is used in the color property has the type 'quantitative (Q)' because it is numeric data. \n",
    "\n",
    "The left visual is a bar chart which shows the different status available for the buildings and the number of buildings in each status. The 'building status' is on the x-axis and has the type 'nominal (N)' as it is a string data which is unordered. The number of buildings on the y-axis was found using the count() function which takes the count of buildings under each status using the 'building status' column. Each status of the buildings in the chart has a separate color assigned to it by default by using the color() function in altair. The 'building status' column is used to decide the colors for the different status.\n",
    "Both the charts have tooltips which help the viewer check the individual data values. This was achieved using the tooltip() function in altair.\n",
    "\n",
    "Finally, both these charts were combined together using '|' after making the charts interactive. Inorder to make the charts interactive, we used the selection_interval() function in altair which was used to select an interval from the scatter plot. This interval was then used to obtain the different status of buildings which existed in that particular year interval on the adjacent bar chart. To achieve this, we used the transform_filter() altair property in the bar chart which filters out the data depending on the interval selected on the scatter plot.\n",
    "\n",
    "We did not use the colormap function in both our plots here because we didn't feel its need to explain our data."
   ]
  },
  {
   "cell_type": "markdown",
   "id": "c6e1e1f6",
   "metadata": {},
   "source": [
    "## Bar chart using Vega-Lite in altair"
   ]
  },
  {
   "cell_type": "code",
   "execution_count": 7,
   "id": "c5cb8b0b",
   "metadata": {},
   "outputs": [
    {
     "data": {
      "text/html": [
       "\n",
       "<div id=\"altair-viz-a8a3fbb78eb64a4a9c7f0780fe3abacf\"></div>\n",
       "<script type=\"text/javascript\">\n",
       "  (function(spec, embedOpt){\n",
       "    let outputDiv = document.currentScript.previousElementSibling;\n",
       "    if (outputDiv.id !== \"altair-viz-a8a3fbb78eb64a4a9c7f0780fe3abacf\") {\n",
       "      outputDiv = document.getElementById(\"altair-viz-a8a3fbb78eb64a4a9c7f0780fe3abacf\");\n",
       "    }\n",
       "    const paths = {\n",
       "      \"vega\": \"https://cdn.jsdelivr.net/npm//vega@5?noext\",\n",
       "      \"vega-lib\": \"https://cdn.jsdelivr.net/npm//vega-lib?noext\",\n",
       "      \"vega-lite\": \"https://cdn.jsdelivr.net/npm//vega-lite@4.8.1?noext\",\n",
       "      \"vega-embed\": \"https://cdn.jsdelivr.net/npm//vega-embed@6?noext\",\n",
       "    };\n",
       "\n",
       "    function loadScript(lib) {\n",
       "      return new Promise(function(resolve, reject) {\n",
       "        var s = document.createElement('script');\n",
       "        s.src = paths[lib];\n",
       "        s.async = true;\n",
       "        s.onload = () => resolve(paths[lib]);\n",
       "        s.onerror = () => reject(`Error loading script: ${paths[lib]}`);\n",
       "        document.getElementsByTagName(\"head\")[0].appendChild(s);\n",
       "      });\n",
       "    }\n",
       "\n",
       "    function showError(err) {\n",
       "      outputDiv.innerHTML = `<div class=\"error\" style=\"color:red;\">${err}</div>`;\n",
       "      throw err;\n",
       "    }\n",
       "\n",
       "    function displayChart(vegaEmbed) {\n",
       "      vegaEmbed(outputDiv, spec, embedOpt)\n",
       "        .catch(err => showError(`Javascript Error: ${err.message}<br>This usually means there's a typo in your chart specification. See the javascript console for the full traceback.`));\n",
       "    }\n",
       "\n",
       "    if(typeof define === \"function\" && define.amd) {\n",
       "      requirejs.config({paths});\n",
       "      require([\"vega-embed\"], displayChart, err => showError(`Error loading script: ${err.message}`));\n",
       "    } else if (typeof vegaEmbed === \"function\") {\n",
       "      displayChart(vegaEmbed);\n",
       "    } else {\n",
       "      loadScript(\"vega\")\n",
       "        .then(() => loadScript(\"vega-lite\"))\n",
       "        .then(() => loadScript(\"vega-embed\"))\n",
       "        .catch(showError)\n",
       "        .then(() => displayChart(vegaEmbed));\n",
       "    }\n",
       "  })({\"config\": {\"view\": {\"continuousWidth\": 400, \"continuousHeight\": 300}}, \"data\": {\"url\": \"https://raw.githubusercontent.com/UIUC-iSchool-DataViz/is445_bcubcg_fall2022/main/data/building_inventory.csv\"}, \"mark\": {\"type\": \"bar\", \"color\": \"red\", \"point\": true, \"tooltip\": true}, \"encoding\": {\"x\": {\"type\": \"nominal\", \"field\": \"Usage Description\"}, \"y\": {\"type\": \"quantitative\", \"aggregate\": \"count\", \"axis\": {\"title\": \"No of buildings\"}}}, \"height\": 300, \"title\": \"Number of buildings built for different usage\", \"transform\": [{\"filter\": {\"field\": \"Usage Description\", \"oneOf\": [\"Storage\", \"Assembly\", \"Industrial\", \"Health Care\", \"Business\", \"Education\", \"Mercantile\", \"Residential\", \"Detention & Correc\", \"Utiility & Miscellan\", \"Public\"]}}], \"width\": 500, \"$schema\": \"https://vega.github.io/schema/vega-lite/v4.8.1.json\"}, {\"mode\": \"vega-lite\"});\n",
       "</script>"
      ],
      "text/plain": [
       "alt.Chart(...)"
      ]
     },
     "execution_count": 7,
     "metadata": {},
     "output_type": "execute_result"
    }
   ],
   "source": [
    "ind_bar = alt.Chart.from_dict({\n",
    "  #//data\n",
    "  \"data\": {\"url\": \"https://raw.githubusercontent.com/UIUC-iSchool-DataViz/is445_bcubcg_fall2022/main/data/building_inventory.csv\"},\n",
    "  #// marks\n",
    "  \"mark\":{\"type\": \"bar\", \"tooltip\":True, \"color\": \"red\", \"point\": True},\n",
    "  \"title\": \"Number of buildings built for different usage\",\n",
    "  \"transform\": [{\"filter\": {\"field\": \"Usage Description\", \"oneOf\": ['Storage', 'Assembly', 'Industrial', 'Health Care',\n",
    "       'Business', 'Education', 'Mercantile', 'Residential','Detention & Correc', 'Utiility & Miscellan','Public']}}], \n",
    "  #// scale/axis\n",
    "  \"encoding\":{\n",
    "    \"x\":{\"field\":\"Usage Description\", \"type\":\"nominal\"},\n",
    "    \"y\":{\"aggregate\":\"count\",\"type\":\"quantitative\",\"axis\":{\"title\":\"No of buildings\"}}\n",
    "  }#// end encoding\n",
    "}).properties(width=500,height = 300)\n",
    "\n",
    "ind_bar"
   ]
  },
  {
   "cell_type": "markdown",
   "id": "e6440cbd",
   "metadata": {},
   "source": [
    "Saving the bar chart under the assets/json directory on our github page in order to publish it on our web page"
   ]
  },
  {
   "cell_type": "code",
   "execution_count": 8,
   "id": "b385751f",
   "metadata": {},
   "outputs": [],
   "source": [
    "ind_bar.properties(width='container').save(myJekyllDir+'altair_vega_bar.json')"
   ]
  },
  {
   "cell_type": "markdown",
   "id": "606f9998",
   "metadata": {},
   "source": [
    "### Explanation:\n",
    "\n",
    "This above visual is a simple bar chart which was made using vega-lite in altair. Inorder to use the vega-lite script in altair, we used the Chart.from_dict() function and changed the manner in which comments are mentioned in the code. The bar chart shows us the different usage descriptions for the buildings constructed and the number of buildings built for the different use. The encodings() function in vega-lite was used to mention the x and the y- axis. The x-axis in the bar chart is the 'usage description' which has the type 'nominal' as it is a string data which is unordered. The y-axis in the bar chart is the 'number of buildings' which is obtained by using the aggregate function count. The number of buildings on the y-axis has the type 'quantitative' as it is numeric data. We have used the transform function in vega-lite which has a filter function which gave us the ability to decide the usage descriptions we wanted to include on the x-axis. We didn't choose to use the 'unusual' string under the column 'usage description'. We used the mark function in vega-lite to define the chart type which is bar and the color was chosen as red randomly. We did not use the colormap function here because we didn't feel its need to explain our data."
   ]
  }
 ],
 "metadata": {
  "kernelspec": {
   "display_name": "Python 3",
   "language": "python",
   "name": "python3"
  },
  "language_info": {
   "codemirror_mode": {
    "name": "ipython",
    "version": 3
   },
   "file_extension": ".py",
   "mimetype": "text/x-python",
   "name": "python",
   "nbconvert_exporter": "python",
   "pygments_lexer": "ipython3",
   "version": "3.6.4"
  }
 },
 "nbformat": 4,
 "nbformat_minor": 5
}
